{
 "cells": [
  {
   "cell_type": "markdown",
   "metadata": {},
   "source": [
    "# Week 4 - Transport Layer in Networks PT-1"
   ]
  },
  {
   "cell_type": "code",
   "execution_count": 7,
   "metadata": {},
   "outputs": [
    {
     "name": "stdout",
     "output_type": "stream",
     "text": [
      "UDP Server is ready to receive API data...\n",
      "Received data from ('127.0.0.1', 63720): Hello, UDP Server!\n",
      "Received data from ('127.0.0.1', 53329): Hello, UDP Server!\n",
      "Received data from ('127.0.0.1', 53367): Hello, UDP Server!\n"
     ]
    },
    {
     "ename": "KeyboardInterrupt",
     "evalue": "",
     "output_type": "error",
     "traceback": [
      "\u001b[0;31m---------------------------------------------------------------------------\u001b[0m",
      "\u001b[0;31mKeyboardInterrupt\u001b[0m                         Traceback (most recent call last)",
      "Cell \u001b[0;32mIn[7], line 11\u001b[0m\n\u001b[1;32m      8\u001b[0m \u001b[38;5;28mprint\u001b[39m(\u001b[38;5;124m\"\u001b[39m\u001b[38;5;124mUDP Server is ready to receive API data...\u001b[39m\u001b[38;5;124m\"\u001b[39m)\n\u001b[1;32m     10\u001b[0m \u001b[38;5;28;01mwhile\u001b[39;00m \u001b[38;5;28;01mTrue\u001b[39;00m:\n\u001b[0;32m---> 11\u001b[0m     data, client_address \u001b[38;5;241m=\u001b[39m \u001b[43mserver_socket\u001b[49m\u001b[38;5;241;43m.\u001b[39;49m\u001b[43mrecvfrom\u001b[49m\u001b[43m(\u001b[49m\u001b[38;5;241;43m2048\u001b[39;49m\u001b[43m)\u001b[49m\n\u001b[1;32m     12\u001b[0m     \u001b[38;5;28mprint\u001b[39m(\u001b[38;5;124mf\u001b[39m\u001b[38;5;124m\"\u001b[39m\u001b[38;5;124mReceived data from \u001b[39m\u001b[38;5;132;01m{\u001b[39;00mclient_address\u001b[38;5;132;01m}\u001b[39;00m\u001b[38;5;124m: \u001b[39m\u001b[38;5;132;01m{\u001b[39;00mdata\u001b[38;5;241m.\u001b[39mdecode()\u001b[38;5;132;01m}\u001b[39;00m\u001b[38;5;124m\"\u001b[39m)\n",
      "\u001b[0;31mKeyboardInterrupt\u001b[0m: "
     ]
    }
   ],
   "source": [
    "# 1. Building a Simple UDP Server \n",
    "\n",
    "import socket\n",
    "\n",
    "server_socket = socket.socket(socket.AF_INET, socket.SOCK_DGRAM)\n",
    "server_socket.bind(('localhost', 65433))\n",
    "\n",
    "print(\"UDP Server is ready to receive API data...\")\n",
    "\n",
    "while True:\n",
    "    data, client_address = server_socket.recvfrom(2048)\n",
    "    print(f\"Received data from {client_address}: {data.decode()}\")\n"
   ]
  },
  {
   "cell_type": "code",
   "execution_count": 2,
   "metadata": {},
   "outputs": [],
   "source": [
    "# 2. Building a Simple UDP Client\n",
    "import socket\n",
    "\n",
    "client_socket = socket.socket(socket.AF_INET, socket.SOCK_DGRAM)\n",
    "server_address = ('localhost', 65433)\n",
    "message = b\"Hello, UDP Server!\"\n",
    "\n",
    "# Send message to the server\n",
    "client_socket.sendto(message, server_address)\n",
    "\n",
    "client_socket.close()"
   ]
  },
  {
   "cell_type": "code",
   "execution_count": 8,
   "metadata": {},
   "outputs": [
    {
     "name": "stdout",
     "output_type": "stream",
     "text": [
      "UDP Chat Server is running...\n",
      "Client ('127.0.0.1', 60673): hi\n"
     ]
    },
    {
     "ename": "KeyboardInterrupt",
     "evalue": "",
     "output_type": "error",
     "traceback": [
      "\u001b[0;31m---------------------------------------------------------------------------\u001b[0m",
      "\u001b[0;31mKeyboardInterrupt\u001b[0m                         Traceback (most recent call last)",
      "Cell \u001b[0;32mIn[8], line 11\u001b[0m\n\u001b[1;32m      8\u001b[0m \u001b[38;5;28mprint\u001b[39m(\u001b[38;5;124m\"\u001b[39m\u001b[38;5;124mUDP Chat Server is running...\u001b[39m\u001b[38;5;124m\"\u001b[39m)\n\u001b[1;32m     10\u001b[0m \u001b[38;5;28;01mwhile\u001b[39;00m \u001b[38;5;28;01mTrue\u001b[39;00m:\n\u001b[0;32m---> 11\u001b[0m     data, client_address \u001b[38;5;241m=\u001b[39m \u001b[43mserver_socket\u001b[49m\u001b[38;5;241;43m.\u001b[39;49m\u001b[43mrecvfrom\u001b[49m\u001b[43m(\u001b[49m\u001b[38;5;241;43m2048\u001b[39;49m\u001b[43m)\u001b[49m  \u001b[38;5;66;03m# Receive message\u001b[39;00m\n\u001b[1;32m     12\u001b[0m     message \u001b[38;5;241m=\u001b[39m data\u001b[38;5;241m.\u001b[39mdecode()\n\u001b[1;32m     14\u001b[0m     \u001b[38;5;28mprint\u001b[39m(\u001b[38;5;124mf\u001b[39m\u001b[38;5;124m\"\u001b[39m\u001b[38;5;124mClient \u001b[39m\u001b[38;5;132;01m{\u001b[39;00mclient_address\u001b[38;5;132;01m}\u001b[39;00m\u001b[38;5;124m: \u001b[39m\u001b[38;5;132;01m{\u001b[39;00mmessage\u001b[38;5;132;01m}\u001b[39;00m\u001b[38;5;124m\"\u001b[39m)\n",
      "\u001b[0;31mKeyboardInterrupt\u001b[0m: "
     ]
    }
   ],
   "source": [
    "# Exercise 1: Using the previous two scripts make a chat application in which\n",
    "# clients can chat using a server. \n",
    "\n",
    "# Create a UDP socket\n",
    "server_socket = socket.socket(socket.AF_INET, socket.SOCK_DGRAM)\n",
    "server_socket.bind(('localhost', 65433))\n",
    "\n",
    "print(\"UDP Chat Server is running...\")\n",
    "\n",
    "while True:\n",
    "    data, client_address = server_socket.recvfrom(2048)  # Receive message\n",
    "    message = data.decode()\n",
    "    \n",
    "    print(f\"Client {client_address}: {message}\")\n",
    "\n",
    "    # Send acknowledgment back to the client\n",
    "    server_socket.sendto(f\"Received: {message}\".encode(), client_address)\n"
   ]
  },
  {
   "cell_type": "code",
   "execution_count": null,
   "metadata": {},
   "outputs": [],
   "source": [
    "# Client\n",
    "\n",
    "import socket\n",
    "\n",
    "# Create a UDP socket\n",
    "client_socket = socket.socket(socket.AF_INET, socket.SOCK_DGRAM)\n",
    "server_address = ('localhost', 65433)\n",
    "\n",
    "print(\"Type your message:\")\n",
    "\n",
    "while True:\n",
    "    message = input(\"You: \")\n",
    "\n",
    "    client_socket.sendto(message.encode(), server_address)  # Send message\n",
    "\n",
    "    # Receive server response\n",
    "    response, _ = client_socket.recvfrom(2048)\n",
    "    print(f\"Server: {response.decode()}\")\n",
    "\n",
    "client_socket.close()\n",
    "\n"
   ]
  },
  {
   "cell_type": "code",
   "execution_count": 9,
   "metadata": {},
   "outputs": [
    {
     "name": "stdout",
     "output_type": "stream",
     "text": [
      "UDP Server is running...\n",
      "('127.0.0.1', 60673) -> python -u \"/var/folders/h5/0kq7bnp97w1bj481lycb_0dw0000gn/T/tempCodeRunnerFile.python\"\n",
      "('127.0.0.1', 60673) -> helo\n"
     ]
    },
    {
     "ename": "KeyboardInterrupt",
     "evalue": "",
     "output_type": "error",
     "traceback": [
      "\u001b[0;31m---------------------------------------------------------------------------\u001b[0m",
      "\u001b[0;31mKeyboardInterrupt\u001b[0m                         Traceback (most recent call last)",
      "Cell \u001b[0;32mIn[9], line 15\u001b[0m\n\u001b[1;32m     12\u001b[0m \u001b[38;5;28mprint\u001b[39m(\u001b[38;5;124m\"\u001b[39m\u001b[38;5;124mUDP Server is running...\u001b[39m\u001b[38;5;124m\"\u001b[39m)\n\u001b[1;32m     14\u001b[0m \u001b[38;5;28;01mwhile\u001b[39;00m \u001b[38;5;28;01mTrue\u001b[39;00m:\n\u001b[0;32m---> 15\u001b[0m     data, client_address \u001b[38;5;241m=\u001b[39m \u001b[43mserver_socket\u001b[49m\u001b[38;5;241;43m.\u001b[39;49m\u001b[43mrecvfrom\u001b[49m\u001b[43m(\u001b[49m\u001b[38;5;241;43m2048\u001b[39;49m\u001b[43m)\u001b[49m\n\u001b[1;32m     16\u001b[0m     message \u001b[38;5;241m=\u001b[39m data\u001b[38;5;241m.\u001b[39mdecode()\n\u001b[1;32m     18\u001b[0m     \u001b[38;5;66;03m# Store client's IP and last message\u001b[39;00m\n",
      "\u001b[0;31mKeyboardInterrupt\u001b[0m: "
     ]
    }
   ],
   "source": [
    "# Exercise 2: Let the use make a dictionary with the users IP address \n",
    "\n",
    "# Create a UDP socket\n",
    "\n",
    "import socket\n",
    "\n",
    "server_socket = socket.socket(socket.AF_INET, socket.SOCK_DGRAM)\n",
    "server_socket.bind(('localhost', 65433))\n",
    "\n",
    "clients = {}  # Dictionary to store clients' IP addresses and last message\n",
    "\n",
    "print(\"UDP Server is running...\")\n",
    "\n",
    "while True:\n",
    "    data, client_address = server_socket.recvfrom(2048)\n",
    "    message = data.decode()\n",
    "\n",
    "    # Store client's IP and last message\n",
    "    clients[client_address] = message\n",
    "\n",
    "    print(f\"{client_address} -> {message}\")\n",
    "\n",
    "    # Send acknowledgment\n",
    "    server_socket.sendto(\"Message received\".encode(), client_address)\n",
    "\n",
    "server_socket.close()\n",
    "\n"
   ]
  },
  {
   "cell_type": "code",
   "execution_count": null,
   "metadata": {},
   "outputs": [],
   "source": [
    "import socket\n",
    "\n",
    "client_socket = socket.socket(socket.AF_INET, socket.SOCK_DGRAM)\n",
    "server_address = ('localhost', 65433)\n",
    "\n",
    "while True:\n",
    "    message = input(\"You: \")\n",
    "    client_socket.sendto(message.encode(), server_address)\n",
    "\n",
    "    # Receive server response\n",
    "    response, _ = client_socket.recvfrom(2048)\n",
    "    print(f\"Server: {response.decode()}\") \n",
    "\n",
    "server_socket.close()\n"
   ]
  },
  {
   "cell_type": "code",
   "execution_count": null,
   "metadata": {},
   "outputs": [
    {
     "name": "stdout",
     "output_type": "stream",
     "text": [
      "UDP Server is running...\n",
      "Client ('127.0.0.1', 61985): hello\n"
     ]
    },
    {
     "ename": "KeyboardInterrupt",
     "evalue": "",
     "output_type": "error",
     "traceback": [
      "\u001b[0;31m---------------------------------------------------------------------------\u001b[0m",
      "\u001b[0;31mKeyboardInterrupt\u001b[0m                         Traceback (most recent call last)",
      "Cell \u001b[0;32mIn[11], line 18\u001b[0m\n\u001b[1;32m     15\u001b[0m \u001b[38;5;28mprint\u001b[39m(\u001b[38;5;124m\"\u001b[39m\u001b[38;5;124mUDP Server is running...\u001b[39m\u001b[38;5;124m\"\u001b[39m)\n\u001b[1;32m     17\u001b[0m \u001b[38;5;28;01mwhile\u001b[39;00m \u001b[38;5;28;01mTrue\u001b[39;00m:\n\u001b[0;32m---> 18\u001b[0m     data, client_address \u001b[38;5;241m=\u001b[39m \u001b[43mserver_socket\u001b[49m\u001b[38;5;241;43m.\u001b[39;49m\u001b[43mrecvfrom\u001b[49m\u001b[43m(\u001b[49m\u001b[38;5;241;43m2048\u001b[39;49m\u001b[43m)\u001b[49m\n\u001b[1;32m     19\u001b[0m     message \u001b[38;5;241m=\u001b[39m data\u001b[38;5;241m.\u001b[39mdecode()\n\u001b[1;32m     21\u001b[0m     \u001b[38;5;28;01mif\u001b[39;00m client_address \u001b[38;5;129;01mnot\u001b[39;00m \u001b[38;5;129;01min\u001b[39;00m authenticated_clients:\n",
      "\u001b[0;31mKeyboardInterrupt\u001b[0m: "
     ]
    }
   ],
   "source": [
    "# Exercise 3: Add authentication step to the application in which the sever would ask the client for username and password to initiate the communication.\n",
    "\n",
    "# Server\n",
    "\n",
    "import socket\n",
    "\n",
    "# Simple username-password dictionary\n",
    "users = {\"user1\": \"1234\", \"user2\": \"abcd\"}\n",
    "\n",
    "server_socket = socket.socket(socket.AF_INET, socket.SOCK_DGRAM)\n",
    "server_socket.bind(('localhost', 65433))\n",
    "\n",
    "authenticated_clients = set()  # Store authenticated clients\n",
    "\n",
    "print(\"UDP Server is running...\")\n",
    "\n",
    "while True:\n",
    "    data, client_address = server_socket.recvfrom(2048)\n",
    "    message = data.decode()\n",
    "\n",
    "    if client_address not in authenticated_clients:\n",
    "        if message in users.values():  # Check if password exists\n",
    "            authenticated_clients.add(client_address)\n",
    "            server_socket.sendto(\"Login successful!\".encode(), client_address)\n",
    "        else:\n",
    "            server_socket.sendto(\"Login failed!\".encode(), client_address)\n",
    "        continue\n",
    "\n",
    "    print(f\"Client {client_address}: {message}\")\n",
    "    server_socket.sendto(\"Message received\".encode(), client_address)\n",
    "\n",
    "server_socket.close()"
   ]
  },
  {
   "cell_type": "code",
   "execution_count": null,
   "metadata": {},
   "outputs": [
    {
     "ename": "KeyboardInterrupt",
     "evalue": "Interrupted by user",
     "output_type": "error",
     "traceback": [
      "\u001b[0;31m---------------------------------------------------------------------------\u001b[0m",
      "\u001b[0;31mKeyboardInterrupt\u001b[0m                         Traceback (most recent call last)",
      "Cell \u001b[0;32mIn[6], line 9\u001b[0m\n\u001b[1;32m      6\u001b[0m server_address \u001b[38;5;241m=\u001b[39m (\u001b[38;5;124m'\u001b[39m\u001b[38;5;124mlocalhost\u001b[39m\u001b[38;5;124m'\u001b[39m, \u001b[38;5;241m65433\u001b[39m)\n\u001b[1;32m      8\u001b[0m \u001b[38;5;28;01mwhile\u001b[39;00m \u001b[38;5;28;01mTrue\u001b[39;00m:\n\u001b[0;32m----> 9\u001b[0m     message \u001b[38;5;241m=\u001b[39m \u001b[38;5;28;43minput\u001b[39;49m\u001b[43m(\u001b[49m\u001b[38;5;124;43m\"\u001b[39;49m\u001b[38;5;124;43mYou: \u001b[39;49m\u001b[38;5;124;43m\"\u001b[39;49m\u001b[43m)\u001b[49m\n\u001b[1;32m     10\u001b[0m     client_socket\u001b[38;5;241m.\u001b[39msendto(message\u001b[38;5;241m.\u001b[39mencode(), server_address)\n\u001b[1;32m     12\u001b[0m     response, _ \u001b[38;5;241m=\u001b[39m client_socket\u001b[38;5;241m.\u001b[39mrecvfrom(\u001b[38;5;241m2048\u001b[39m)\n",
      "File \u001b[0;32m/opt/miniconda3/lib/python3.12/site-packages/ipykernel/kernelbase.py:1282\u001b[0m, in \u001b[0;36mKernel.raw_input\u001b[0;34m(self, prompt)\u001b[0m\n\u001b[1;32m   1280\u001b[0m     msg \u001b[38;5;241m=\u001b[39m \u001b[38;5;124m\"\u001b[39m\u001b[38;5;124mraw_input was called, but this frontend does not support input requests.\u001b[39m\u001b[38;5;124m\"\u001b[39m\n\u001b[1;32m   1281\u001b[0m     \u001b[38;5;28;01mraise\u001b[39;00m StdinNotImplementedError(msg)\n\u001b[0;32m-> 1282\u001b[0m \u001b[38;5;28;01mreturn\u001b[39;00m \u001b[38;5;28;43mself\u001b[39;49m\u001b[38;5;241;43m.\u001b[39;49m\u001b[43m_input_request\u001b[49m\u001b[43m(\u001b[49m\n\u001b[1;32m   1283\u001b[0m \u001b[43m    \u001b[49m\u001b[38;5;28;43mstr\u001b[39;49m\u001b[43m(\u001b[49m\u001b[43mprompt\u001b[49m\u001b[43m)\u001b[49m\u001b[43m,\u001b[49m\n\u001b[1;32m   1284\u001b[0m \u001b[43m    \u001b[49m\u001b[38;5;28;43mself\u001b[39;49m\u001b[38;5;241;43m.\u001b[39;49m\u001b[43m_parent_ident\u001b[49m\u001b[43m[\u001b[49m\u001b[38;5;124;43m\"\u001b[39;49m\u001b[38;5;124;43mshell\u001b[39;49m\u001b[38;5;124;43m\"\u001b[39;49m\u001b[43m]\u001b[49m\u001b[43m,\u001b[49m\n\u001b[1;32m   1285\u001b[0m \u001b[43m    \u001b[49m\u001b[38;5;28;43mself\u001b[39;49m\u001b[38;5;241;43m.\u001b[39;49m\u001b[43mget_parent\u001b[49m\u001b[43m(\u001b[49m\u001b[38;5;124;43m\"\u001b[39;49m\u001b[38;5;124;43mshell\u001b[39;49m\u001b[38;5;124;43m\"\u001b[39;49m\u001b[43m)\u001b[49m\u001b[43m,\u001b[49m\n\u001b[1;32m   1286\u001b[0m \u001b[43m    \u001b[49m\u001b[43mpassword\u001b[49m\u001b[38;5;241;43m=\u001b[39;49m\u001b[38;5;28;43;01mFalse\u001b[39;49;00m\u001b[43m,\u001b[49m\n\u001b[1;32m   1287\u001b[0m \u001b[43m\u001b[49m\u001b[43m)\u001b[49m\n",
      "File \u001b[0;32m/opt/miniconda3/lib/python3.12/site-packages/ipykernel/kernelbase.py:1325\u001b[0m, in \u001b[0;36mKernel._input_request\u001b[0;34m(self, prompt, ident, parent, password)\u001b[0m\n\u001b[1;32m   1322\u001b[0m \u001b[38;5;28;01mexcept\u001b[39;00m \u001b[38;5;167;01mKeyboardInterrupt\u001b[39;00m:\n\u001b[1;32m   1323\u001b[0m     \u001b[38;5;66;03m# re-raise KeyboardInterrupt, to truncate traceback\u001b[39;00m\n\u001b[1;32m   1324\u001b[0m     msg \u001b[38;5;241m=\u001b[39m \u001b[38;5;124m\"\u001b[39m\u001b[38;5;124mInterrupted by user\u001b[39m\u001b[38;5;124m\"\u001b[39m\n\u001b[0;32m-> 1325\u001b[0m     \u001b[38;5;28;01mraise\u001b[39;00m \u001b[38;5;167;01mKeyboardInterrupt\u001b[39;00m(msg) \u001b[38;5;28;01mfrom\u001b[39;00m \u001b[38;5;28;01mNone\u001b[39;00m\n\u001b[1;32m   1326\u001b[0m \u001b[38;5;28;01mexcept\u001b[39;00m \u001b[38;5;167;01mException\u001b[39;00m:\n\u001b[1;32m   1327\u001b[0m     \u001b[38;5;28mself\u001b[39m\u001b[38;5;241m.\u001b[39mlog\u001b[38;5;241m.\u001b[39mwarning(\u001b[38;5;124m\"\u001b[39m\u001b[38;5;124mInvalid Message:\u001b[39m\u001b[38;5;124m\"\u001b[39m, exc_info\u001b[38;5;241m=\u001b[39m\u001b[38;5;28;01mTrue\u001b[39;00m)\n",
      "\u001b[0;31mKeyboardInterrupt\u001b[0m: Interrupted by user"
     ]
    }
   ],
   "source": [
    "\n",
    "# Client\n",
    "\n",
    "import socket\n",
    "\n",
    "client_socket = socket.socket(socket.AF_INET, socket.SOCK_DGRAM)\n",
    "server_address = ('localhost', 65433)\n",
    "\n",
    "# Send password to server\n",
    "password = input(\"Enter password: \")\n",
    "client_socket.sendto(password.encode(), server_address)\n",
    "\n",
    "# Receive login response\n",
    "response, _ = client_socket.recvfrom(2048)\n",
    "print(f\"Server: {response.decode()}\")\n",
    "\n",
    "if \"failed\" in response.decode().lower():\n",
    "    client_socket.close()\n",
    "    exit()\n",
    "\n",
    "# Send messages after login\n",
    "while True:\n",
    "    message = input(\"You: \")\n",
    "    client_socket.sendto(message.encode(), server_address)\n",
    "\n",
    "    response, _ = client_socket.recvfrom(2048)\n",
    "    print(f\"Server: {response.decode()}\")\n",
    "\n",
    "client_socket.close()\n",
    "\n"
   ]
  },
  {
   "cell_type": "code",
   "execution_count": null,
   "metadata": {},
   "outputs": [
    {
     "name": "stdout",
     "output_type": "stream",
     "text": [
      "UDP Server is running...\n",
      "Client ('127.0.0.1', 61985): mvqelk\u001d*r\u001d\u001f,s^o,cliabop,e2,-hn4_km64t._g15.iv`_\\-at----dk,Q,qbjm@labOrkkboCfib+mvqelk\u001f\n",
      "Client ('127.0.0.1', 61985): ef\u001d\n",
      "Client ('127.0.0.1', 61985): ebiil\u001d\n"
     ]
    },
    {
     "ename": "KeyboardInterrupt",
     "evalue": "",
     "output_type": "error",
     "traceback": [
      "\u001b[0;31m---------------------------------------------------------------------------\u001b[0m",
      "\u001b[0;31mKeyboardInterrupt\u001b[0m                         Traceback (most recent call last)",
      "Cell \u001b[0;32mIn[12], line 21\u001b[0m\n\u001b[1;32m     18\u001b[0m     \u001b[38;5;28;01mreturn\u001b[39;00m decrypted_message\n\u001b[1;32m     20\u001b[0m \u001b[38;5;28;01mwhile\u001b[39;00m \u001b[38;5;28;01mTrue\u001b[39;00m:\n\u001b[0;32m---> 21\u001b[0m     data, client_address \u001b[38;5;241m=\u001b[39m \u001b[43mserver_socket\u001b[49m\u001b[38;5;241;43m.\u001b[39;49m\u001b[43mrecvfrom\u001b[49m\u001b[43m(\u001b[49m\u001b[38;5;241;43m2048\u001b[39;49m\u001b[43m)\u001b[49m\n\u001b[1;32m     22\u001b[0m     message \u001b[38;5;241m=\u001b[39m data\u001b[38;5;241m.\u001b[39mdecode()\n\u001b[1;32m     24\u001b[0m     decrypted_message \u001b[38;5;241m=\u001b[39m decrypt(message, key)\n",
      "\u001b[0;31mKeyboardInterrupt\u001b[0m: "
     ]
    }
   ],
   "source": [
    "# Exercise 4: Write functions that would encrypt the messages in the client and decrypt them in the server. Hint: you can refer to this tutorial\n",
    "# https://www.tutorialspoint.com/cryptography_with_python/cryptography_with_python_quick_guide.html\n",
    "\n",
    "# Server\n",
    "\n",
    "import socket\n",
    "\n",
    "server_socket = socket.socket(socket.AF_INET, socket.SOCK_DGRAM)\n",
    "server_socket.bind(('localhost', 65433))\n",
    "\n",
    "print(\"UDP Server is running...\")\n",
    "key = 3\n",
    "\n",
    "def decrypt(message, key):\n",
    "    decrypted_message = \"\"\n",
    "    for char in message:\n",
    "        decrypted_message += chr(ord(char) - key)\n",
    "    return decrypted_message\n",
    "\n",
    "while True:\n",
    "    data, client_address = server_socket.recvfrom(2048)\n",
    "    message = data.decode()\n",
    "\n",
    "    decrypted_message = decrypt(message, key)\n",
    "    print(f\"Client {client_address}: {decrypted_message}\")\n",
    "\n",
    "    server_socket.sendto(\"Message received\".encode(), client_address)\n",
    "    \n",
    "server_socket.close()"
   ]
  },
  {
   "cell_type": "code",
   "execution_count": null,
   "metadata": {},
   "outputs": [],
   "source": [
    "# Client \n",
    "\n",
    "import socket\n",
    "\n",
    "client_socket = socket.socket(socket.AF_INET, socket.SOCK_DGRAM)\n",
    "server_address = ('localhost', 65433)\n",
    "key = 3\n",
    "\n",
    "def encrypt(message, key):\n",
    "    encrypted_message = \"\"\n",
    "    for char in message:\n",
    "        encrypted_message += chr(ord(char) + key)\n",
    "    return encrypted_message\n",
    "\n",
    "password = input(\"Enter password: \")\n",
    "encrypted_password = encrypt(password, key)\n",
    "client_socket.sendto(encrypted_password.encode(), server_address)\n",
    "\n",
    "response, _ = client_socket.recvfrom(2048)\n",
    "print(f\"Server: {response.decode()}\")\n",
    "if \"failed\" in response.decode().lower():\n",
    "    client_socket.close()\n",
    "    exit()\n",
    "\n",
    "while True:\n",
    "    message = input(\"You: \")\n",
    "    encrypted_message = encrypt(message, key)\n",
    "    client_socket.sendto(encrypted_message.encode(), server_address)\n",
    "\n",
    "    response, _ = client_socket.recvfrom(2048)\n",
    "    print(f\"Server: {response.decode()}\")\n",
    "\n",
    "client_socket.close()\n"
   ]
  },
  {
   "cell_type": "code",
   "execution_count": 14,
   "metadata": {},
   "outputs": [
    {
     "name": "stdout",
     "output_type": "stream",
     "text": [
      "UDP Server is running...\n",
      "Weather Update from ('127.0.0.1', 60268): Goldsmiths: 4.2°C, British Library: 4.2°C\n",
      "Weather Update from ('127.0.0.1', 60600): defg\n",
      "Weather Update from ('127.0.0.1', 60600): khoor#\n"
     ]
    },
    {
     "ename": "KeyboardInterrupt",
     "evalue": "",
     "output_type": "error",
     "traceback": [
      "\u001b[0;31m---------------------------------------------------------------------------\u001b[0m",
      "\u001b[0;31mKeyboardInterrupt\u001b[0m                         Traceback (most recent call last)",
      "Cell \u001b[0;32mIn[14], line 13\u001b[0m\n\u001b[1;32m     10\u001b[0m \u001b[38;5;28mprint\u001b[39m(\u001b[38;5;124m\"\u001b[39m\u001b[38;5;124mUDP Server is running...\u001b[39m\u001b[38;5;124m\"\u001b[39m)\n\u001b[1;32m     12\u001b[0m \u001b[38;5;28;01mwhile\u001b[39;00m \u001b[38;5;28;01mTrue\u001b[39;00m:\n\u001b[0;32m---> 13\u001b[0m     data, client_address \u001b[38;5;241m=\u001b[39m \u001b[43mserver_socket\u001b[49m\u001b[38;5;241;43m.\u001b[39;49m\u001b[43mrecvfrom\u001b[49m\u001b[43m(\u001b[49m\u001b[38;5;241;43m2048\u001b[39;49m\u001b[43m)\u001b[49m\n\u001b[1;32m     14\u001b[0m     message \u001b[38;5;241m=\u001b[39m data\u001b[38;5;241m.\u001b[39mdecode()\n\u001b[1;32m     16\u001b[0m     \u001b[38;5;28mprint\u001b[39m(\u001b[38;5;124mf\u001b[39m\u001b[38;5;124m\"\u001b[39m\u001b[38;5;124mWeather Update from \u001b[39m\u001b[38;5;132;01m{\u001b[39;00mclient_address\u001b[38;5;132;01m}\u001b[39;00m\u001b[38;5;124m: \u001b[39m\u001b[38;5;132;01m{\u001b[39;00mmessage\u001b[38;5;132;01m}\u001b[39;00m\u001b[38;5;124m\"\u001b[39m)\n",
      "\u001b[0;31mKeyboardInterrupt\u001b[0m: "
     ]
    }
   ],
   "source": [
    "# Exercise 5: Check the API website and update the script to compare the temperate between the university and the British\n",
    "# Library.\n",
    "\n",
    "# Server\n",
    "import socket\n",
    "\n",
    "server_socket = socket.socket(socket.AF_INET, socket.SOCK_DGRAM)\n",
    "server_socket.bind(('localhost', 65433))\n",
    "\n",
    "print(\"UDP Server is running...\")\n",
    "\n",
    "while True:\n",
    "    data, client_address = server_socket.recvfrom(2048)\n",
    "    message = data.decode()\n",
    "    \n",
    "    print(f\"Weather Update from {client_address}: {message}\")\n",
    "    server_socket.sendto(\"Weather data received\".encode(), client_address)\n",
    "\n",
    "server_socket.close()\n",
    "\n",
    "\n"
   ]
  },
  {
   "cell_type": "code",
   "execution_count": 3,
   "metadata": {},
   "outputs": [
    {
     "ename": "KeyboardInterrupt",
     "evalue": "",
     "output_type": "error",
     "traceback": [
      "\u001b[0;31m---------------------------------------------------------------------------\u001b[0m",
      "\u001b[0;31mKeyboardInterrupt\u001b[0m                         Traceback (most recent call last)",
      "Cell \u001b[0;32mIn[3], line 42\u001b[0m\n\u001b[1;32m     39\u001b[0m client_socket\u001b[38;5;241m.\u001b[39msendto(message\u001b[38;5;241m.\u001b[39mencode(), server_address)\n\u001b[1;32m     41\u001b[0m \u001b[38;5;66;03m# Receive acknowledgment\u001b[39;00m\n\u001b[0;32m---> 42\u001b[0m response, _ \u001b[38;5;241m=\u001b[39m \u001b[43mclient_socket\u001b[49m\u001b[38;5;241;43m.\u001b[39;49m\u001b[43mrecvfrom\u001b[49m\u001b[43m(\u001b[49m\u001b[38;5;241;43m2048\u001b[39;49m\u001b[43m)\u001b[49m\n\u001b[1;32m     43\u001b[0m \u001b[38;5;28mprint\u001b[39m(\u001b[38;5;124mf\u001b[39m\u001b[38;5;124m\"\u001b[39m\u001b[38;5;124mServer: \u001b[39m\u001b[38;5;132;01m{\u001b[39;00mresponse\u001b[38;5;241m.\u001b[39mdecode()\u001b[38;5;132;01m}\u001b[39;00m\u001b[38;5;124m\"\u001b[39m)\n\u001b[1;32m     45\u001b[0m client_socket\u001b[38;5;241m.\u001b[39mclose()\n",
      "\u001b[0;31mKeyboardInterrupt\u001b[0m: "
     ]
    }
   ],
   "source": [
    "# client \n",
    "\n",
    "import socket\n",
    "import requests\n",
    "\n",
    "client_socket = socket.socket(socket.AF_INET, socket.SOCK_DGRAM)\n",
    "server_address = ('localhost', 65433)\n",
    "\n",
    "# Function to get temperature from Open-Meteo API\n",
    "def get_temperature(latitude, longitude):\n",
    "    api_url = f\"https://api.open-meteo.com/v1/forecast?latitude={latitude}&longitude={longitude}&current_weather=true\"\n",
    "    response = requests.get(api_url)\n",
    "    \n",
    "    if response.status_code == 200:\n",
    "        weather_data = response.json()\n",
    "        return weather_data[\"current_weather\"][\"temperature\"]\n",
    "    else:\n",
    "        return \"Failed to fetch weather data\"\n",
    "# Coordinates\n",
    "goldsmiths_lat, goldsmiths_lon = 51.4747, -0.0355  # Goldsmiths University\n",
    "british_library_lat, british_library_lon = 51.5299, -0.1273  # British Library\n",
    "\n",
    "# Get temperatures\n",
    "goldsmiths_temp = get_temperature(goldsmiths_lat, goldsmiths_lon)\n",
    "british_library_temp = get_temperature(british_library_lat, british_library_lon)\n",
    "\n",
    "# Compare temperatures\n",
    "if goldsmiths_temp > british_library_temp:\n",
    "    message = f\"Goldsmiths Uni is hotter than the library by {goldsmiths_temp - british_library_temp} degrees.\"\n",
    "else:\n",
    "    message = f\"British library is hotter than Goldsmiths Uni by {british_library_temp - goldsmiths_temp} degrees.\"\n",
    "\n",
    "\n",
    "# Send temperature comparison to server\n",
    "client_socket.sendto(message.encode(), server_address)\n",
    "\n",
    "# Receive acknowledgment\n",
    "response, _ = client_socket.recvfrom(2048)\n",
    "print(f\"Server: {response.decode()}\")\n",
    "\n",
    "client_socket.close()\n",
    "\n",
    "\n"
   ]
  },
  {
   "cell_type": "code",
   "execution_count": null,
   "metadata": {},
   "outputs": [
    {
     "name": "stdout",
     "output_type": "stream",
     "text": [
      "UDP Server is running...\n",
      "Currency Exchange Update from ('127.0.0.1', 61737): 1 GBP = 1.19 EUR\n"
     ]
    },
    {
     "ename": "KeyboardInterrupt",
     "evalue": "",
     "output_type": "error",
     "traceback": [
      "\u001b[0;31m---------------------------------------------------------------------------\u001b[0m",
      "\u001b[0;31mKeyboardInterrupt\u001b[0m                         Traceback (most recent call last)",
      "Cell \u001b[0;32mIn[16], line 12\u001b[0m\n\u001b[1;32m      9\u001b[0m \u001b[38;5;28mprint\u001b[39m(\u001b[38;5;124m\"\u001b[39m\u001b[38;5;124mUDP Server is running...\u001b[39m\u001b[38;5;124m\"\u001b[39m)\n\u001b[1;32m     11\u001b[0m \u001b[38;5;28;01mwhile\u001b[39;00m \u001b[38;5;28;01mTrue\u001b[39;00m:\n\u001b[0;32m---> 12\u001b[0m     data, client_address \u001b[38;5;241m=\u001b[39m \u001b[43mserver_socket\u001b[49m\u001b[38;5;241;43m.\u001b[39;49m\u001b[43mrecvfrom\u001b[49m\u001b[43m(\u001b[49m\u001b[38;5;241;43m4096\u001b[39;49m\u001b[43m)\u001b[49m  \u001b[38;5;66;03m# Increased buffer size\u001b[39;00m\n\u001b[1;32m     13\u001b[0m     message \u001b[38;5;241m=\u001b[39m data\u001b[38;5;241m.\u001b[39mdecode()\n\u001b[1;32m     15\u001b[0m     \u001b[38;5;28mprint\u001b[39m(\u001b[38;5;124mf\u001b[39m\u001b[38;5;124m\"\u001b[39m\u001b[38;5;124mCurrency Exchange Update from \u001b[39m\u001b[38;5;132;01m{\u001b[39;00mclient_address\u001b[38;5;132;01m}\u001b[39;00m\u001b[38;5;124m: \u001b[39m\u001b[38;5;132;01m{\u001b[39;00mmessage\u001b[38;5;132;01m}\u001b[39;00m\u001b[38;5;124m\"\u001b[39m)\n",
      "\u001b[0;31mKeyboardInterrupt\u001b[0m: "
     ]
    }
   ],
   "source": [
    "# Exercise 6: Experiment with other applications of the API\n",
    "\n",
    "# Server\n",
    "import socket\n",
    "\n",
    "server_socket = socket.socket(socket.AF_INET, socket.SOCK_DGRAM)\n",
    "server_socket.bind(('localhost', 65433))\n",
    "\n",
    "print(\"UDP Server is running...\")\n",
    "\n",
    "while True:\n",
    "    data, client_address = server_socket.recvfrom(4096)  # Increased buffer size\n",
    "    message = data.decode()\n",
    "    \n",
    "    print(f\"Currency Exchange rate {client_address}: {message}\")\n",
    "    server_socket.sendto(\"Exchange rate data received.\".encode(), client_address)\n",
    "\n",
    "server_socket.close()\n",
    "\n",
    "\n",
    "\n"
   ]
  },
  {
   "cell_type": "code",
   "execution_count": 9,
   "metadata": {},
   "outputs": [
    {
     "name": "stdout",
     "output_type": "stream",
     "text": [
      "Enter the currency codes (e.g., USD, GBP, EUR, JPY).\n"
     ]
    },
    {
     "ename": "KeyboardInterrupt",
     "evalue": "",
     "output_type": "error",
     "traceback": [
      "\u001b[0;31m---------------------------------------------------------------------------\u001b[0m",
      "\u001b[0;31mKeyboardInterrupt\u001b[0m                         Traceback (most recent call last)",
      "Cell \u001b[0;32mIn[9], line 39\u001b[0m\n\u001b[1;32m     36\u001b[0m client_socket\u001b[38;5;241m.\u001b[39msendto(exchange_data\u001b[38;5;241m.\u001b[39mencode(), server_address)\n\u001b[1;32m     38\u001b[0m \u001b[38;5;66;03m# Receive acknowledgment\u001b[39;00m\n\u001b[0;32m---> 39\u001b[0m response, _ \u001b[38;5;241m=\u001b[39m \u001b[43mclient_socket\u001b[49m\u001b[38;5;241;43m.\u001b[39;49m\u001b[43mrecvfrom\u001b[49m\u001b[43m(\u001b[49m\u001b[38;5;241;43m2048\u001b[39;49m\u001b[43m)\u001b[49m\n\u001b[1;32m     40\u001b[0m \u001b[38;5;28mprint\u001b[39m(\u001b[38;5;124mf\u001b[39m\u001b[38;5;124m\"\u001b[39m\u001b[38;5;124mServer: \u001b[39m\u001b[38;5;132;01m{\u001b[39;00mresponse\u001b[38;5;241m.\u001b[39mdecode()\u001b[38;5;132;01m}\u001b[39;00m\u001b[38;5;124m\"\u001b[39m)\n\u001b[1;32m     42\u001b[0m client_socket\u001b[38;5;241m.\u001b[39mclose()\n",
      "\u001b[0;31mKeyboardInterrupt\u001b[0m: "
     ]
    }
   ],
   "source": [
    "# Client\n",
    "\n",
    "import socket\n",
    "import requests\n",
    "\n",
    "client_socket = socket.socket(socket.AF_INET, socket.SOCK_DGRAM)\n",
    "server_address = ('localhost', 65433)\n",
    "\n",
    "# Function to get currency exchange rates\n",
    "def get_exchange_rate(base_currency, target_currency):\n",
    "    # exchange rate API\n",
    "    api_url = f\"https://api.exchangerate-api.com/v4/latest/{base_currency}\"\n",
    "    \n",
    "    try:\n",
    "        response = requests.get(api_url, timeout=5)\n",
    "        data = response.json()\n",
    "        \n",
    "        if target_currency in data[\"rates\"]:\n",
    "            rate = data[\"rates\"][target_currency]\n",
    "            return f\"1 {base_currency} = {rate} {target_currency}\"\n",
    "        else:\n",
    "            return f\"Exchange rate for {target_currency} not found.\"\n",
    "    except Exception as e:\n",
    "        return f\"Currency API Error: {e}\"\n",
    "    \n",
    "\n",
    "# User selects currencies\n",
    "print(\"Enter the currency codes (e.g., USD, GBP, EUR, JPY).\")\n",
    "base_currency = input(\"Base Currency: \").upper()\n",
    "target_currency = input(\"Target Currency: \").upper()\n",
    "\n",
    "# Get exchange rate data\n",
    "exchange_data = get_exchange_rate(base_currency, target_currency)\n",
    "\n",
    "# Send exchange rate data to the server\n",
    "client_socket.sendto(exchange_data.encode(), server_address)\n",
    "\n",
    "# Receive acknowledgment\n",
    "response, _ = client_socket.recvfrom(2048)\n",
    "print(f\"Server: {response.decode()}\")\n",
    "\n",
    "client_socket.close()\n"
   ]
  }
 ],
 "metadata": {
  "kernelspec": {
   "display_name": "base",
   "language": "python",
   "name": "python3"
  },
  "language_info": {
   "codemirror_mode": {
    "name": "ipython",
    "version": 3
   },
   "file_extension": ".py",
   "mimetype": "text/x-python",
   "name": "python",
   "nbconvert_exporter": "python",
   "pygments_lexer": "ipython3",
   "version": "3.12.4"
  }
 },
 "nbformat": 4,
 "nbformat_minor": 2
}
