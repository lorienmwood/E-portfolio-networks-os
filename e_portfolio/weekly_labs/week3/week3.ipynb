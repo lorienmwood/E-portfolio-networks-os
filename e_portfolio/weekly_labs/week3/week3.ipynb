{
 "cells": [
  {
   "cell_type": "markdown",
   "metadata": {},
   "source": [
    "# Week 3 - Application Layer in Networks "
   ]
  },
  {
   "cell_type": "code",
   "execution_count": 1,
   "metadata": {},
   "outputs": [
    {
     "name": "stdout",
     "output_type": "stream",
     "text": [
      "The IP address of  is 0.0.0.0\n"
     ]
    }
   ],
   "source": [
    "# Exercise 1: Try 3 websites and report their IP addresses\n",
    "\n",
    "import socket\n",
    "\n",
    "def get_ip_address(website_url):\n",
    "    try:\n",
    "        # Resolve the IP address of the website\n",
    "        ip_address = socket.gethostbyname(website_url)\n",
    "        print(f\"The IP address of {website_url} is {ip_address}\")\n",
    "    except socket.gaierror:\n",
    "        # Handle errors if the hostname cannot be resolved\n",
    "        print(f\"Unable to get the IP address for {website_url}\")\n",
    "\n",
    "# Prompt the user to enter a website URL\n",
    "website = input(\"Enter the website URL (without 'https://'): \")\n",
    "\n",
    "# Call the function to get the IP address\n",
    "get_ip_address(website)\n",
    "\n",
    "# The IP address of apple.com is 17.253.144.10\n",
    "# The IP address of google.com is 142.250.200.14\n",
    "# The IP address of bbc.com is 151.101.192.81 \n",
    "\n"
   ]
  },
  {
   "cell_type": "code",
   "execution_count": null,
   "metadata": {},
   "outputs": [],
   "source": [
    "# Exercise 2: Experiment with 3 different domain names and IP addresses to see the trace route information.\n",
    "\n",
    "import subprocess\n",
    "\n",
    "def traceroute(domain):\n",
    "    try:\n",
    "        result = subprocess.run([\"traceroute\", domain], capture_output=True, text=True)\n",
    "        print(result.stdout)\n",
    "    except FileNotFoundError:\n",
    "        print(\"traceroute command not found. Make sure it's available.\")\n",
    "    except Exception as e:\n",
    "        print(f\"An error occurred: {e}\")\n",
    "\n",
    "domain = input(\"Enter the website or IP address: \")\n",
    "traceroute(domain)\n",
    "\n",
    "# traceroute to apple.com (17.253.144.10), 64 hops max, 40 byte packets\n",
    "#  1  nowtvhub (192.168.0.1)  4.181 ms  3.849 ms  3.947 ms\n",
    "#  2  * * *\n",
    "#  3  2.120.15.33 (2.120.15.33)  16.235 ms  9.911 ms  10.096 ms\n",
    "#  4  2.120.13.125 (2.120.13.125)  10.182 ms  11.055 ms  9.009 ms\n",
    "#  5  www.brkgls.com (17.253.144.10)  9.275 ms !Z  10.021 ms !Z  9.215 ms !Z\n",
    "\n",
    "\n",
    "# traceroute to google.com (142.250.178.14), 64 hops max, 40 byte packets\n",
    "#  1  nowtvhub (192.168.0.1)  8.444 ms  3.047 ms  3.749 ms\n",
    "#  2  * * *\n",
    "#  3  2.120.15.31 (2.120.15.31)  10.153 ms  13.560 ms\n",
    "#     2.120.15.33 (2.120.15.33)  9.055 ms\n",
    "#  4  2.120.13.125 (2.120.13.125)  10.438 ms  9.720 ms  10.624 ms\n",
    "#  5  * * *\n",
    "#  6  142.250.215.125 (142.250.215.125)  9.695 ms\n",
    "#     142.251.54.26 (142.251.54.26)  12.109 ms\n",
    "#     142.250.215.125 (142.250.215.125)  9.602 ms\n",
    "#  7  lhr48s27-in-f14.1e100.net (142.250.178.14)  10.215 ms\n",
    "#     192.178.97.54 (192.178.97.54)  12.015 ms\n",
    "#     lhr48s27-in-f14.1e100.net (142.250.178.14)  10.735 ms\n",
    "\n",
    "# traceroute to bbc.com (151.101.0.81), 64 hops max, 40 byte packets\n",
    "#  1  nowtvhub (192.168.0.1)  5.463 ms  4.425 ms  3.907 ms\n",
    "#  2  * * *\n",
    "#  3  2.120.15.31 (2.120.15.31)  17.002 ms\n",
    "#     2.120.15.33 (2.120.15.33)  10.542 ms  10.443 ms\n",
    "#  4  2.120.13.125 (2.120.13.125)  9.964 ms  9.710 ms  9.839 ms\n",
    "#  5  * * *\n",
    "#  6  * * *\n",
    "#  7  * * *\n",
    "#  8  * * *\n",
    "#  9  * * *\n"
   ]
  },
  {
   "cell_type": "markdown",
   "metadata": {},
   "source": [
    "### Exercise 3: Analyse the output of tracert.\n",
    "\n",
    "The apple.com traceroute output shows that the packets are reaching the destination server. \n",
    "The traceroute is successful and shows the path taken by the packets to reach the destination. \n",
    "\n",
    "The google.com traceroute output shows that the packets are reaching the destination server. \n",
    "The traceroute is successful and shows the path taken by the packets to reach the destination.\n",
    "\n",
    "The bbc.com traceroute output shows that the packets are not reaching the destination. The traceroute is failing at hop 5, which means that the packets are not reaching the destination server. "
   ]
  },
  {
   "cell_type": "markdown",
   "metadata": {},
   "source": [
    "### Exercise 4: Identify Potential Bottlenecks or Slow Points\n",
    "\n",
    "One bottleneck is bbc.com where the traceroute is failing at hop 5. The packets are not reaching the destination server.This could be due to a network issue or a firewall blocking the packets. \n",
    "    \n",
    "\n",
    "\n"
   ]
  }
 ],
 "metadata": {
  "kernelspec": {
   "display_name": "base",
   "language": "python",
   "name": "python3"
  },
  "language_info": {
   "codemirror_mode": {
    "name": "ipython",
    "version": 3
   },
   "file_extension": ".py",
   "mimetype": "text/x-python",
   "name": "python",
   "nbconvert_exporter": "python",
   "pygments_lexer": "ipython3",
   "version": "3.12.4"
  }
 },
 "nbformat": 4,
 "nbformat_minor": 2
}
