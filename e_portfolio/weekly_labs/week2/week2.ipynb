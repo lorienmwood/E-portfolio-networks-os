{
 "cells": [
  {
   "cell_type": "markdown",
   "metadata": {
    "vscode": {
     "languageId": "raw"
    }
   },
   "source": [
    "# Week 2 - Python Fundamentals"
   ]
  },
  {
   "cell_type": "code",
   "execution_count": 1,
   "metadata": {},
   "outputs": [
    {
     "name": "stdout",
     "output_type": "stream",
     "text": [
      "Hello Word\n"
     ]
    }
   ],
   "source": [
    "# To set up the environment\n",
    "print('Hello Word')\n"
   ]
  },
  {
   "cell_type": "code",
   "execution_count": 4,
   "metadata": {},
   "outputs": [
    {
     "name": "stdout",
     "output_type": "stream",
     "text": [
      "5.0\n",
      "-3.0\n",
      "10.0\n",
      "0.4\n",
      "2.0\n",
      "32.0\n"
     ]
    }
   ],
   "source": [
    "# Exercise 1: : Basic Math Operations\n",
    "\n",
    "# i. Write a script to add two numbers and print the result.\n",
    "number1 = float(input(\"Enter the first number: \"))\n",
    "number2 = float(input(\"Enter the second number: \"))\n",
    "addition = number1 + number2\n",
    "print(sum)\n",
    "\n",
    "# ii. Write a script to subtract two numbers and print the result.\n",
    "number1 = float(input(\"Enter the first number: \"))\n",
    "number2 = float(input(\"Enter the second number: \"))\n",
    "subtraction = number1 - number2\n",
    "print(subtraction)\n",
    "\n",
    "# iii. Write a script to multiply two numbers and print the result.\n",
    "number1 = float(input(\"Enter the first number: \"))\n",
    "number2 = float(input(\"Enter the second number: \"))\n",
    "multiplication = number1 * number2\n",
    "print(multiplication)\n",
    "\n",
    "# iv. Write a script to divide two numbers and print the result.\n",
    "number1 = float(input(\"Enter the first number: \"))\n",
    "number2 = float(input(\"Enter the second number: \"))\n",
    "division = number1 / number2\n",
    "print(division)\n",
    "\n",
    "# v. Write a script to calculate the remainder of two numbers and print the result.\n",
    "number1 = float(input(\"Enter the first number: \"))\n",
    "number2 = float(input(\"Enter the second number: \"))\n",
    "remainder = number1 % number2\n",
    "print(remainder)\n",
    "\n",
    "# vi. Write a script to calculate the power of a number and print the result.\n",
    "base = float(input(\"Enter the first number: \"))\n",
    "exponent = float(input(\"Enter the second number: \"))\n",
    "power = base ** exponent\n",
    "print(power)\n",
    "\n"
   ]
  },
  {
   "cell_type": "code",
   "execution_count": 5,
   "metadata": {},
   "outputs": [
    {
     "name": "stdout",
     "output_type": "stream",
     "text": [
      "['pineapple', 'kiwi', 'apple', 'pear', 'banana']\n",
      "('cat', 'bird', 'dog')\n",
      "{'Python': 1991, 'JavaScript': 1995, 'Java': 1995}\n",
      "{'red', 'purple', 'yellow'}\n",
      "Python is an easy-to-learn programming language.\n"
     ]
    }
   ],
   "source": [
    "# Exercise 2: Python Data Types\n",
    "# i. Create a list of 5 different fruits and print the list.\n",
    "fruits = ['pineapple', 'kiwi', 'apple', 'pear', 'banana']\n",
    "print(fruits)\n",
    "\n",
    "# ii. Create a tuple of 3 different animals and print the tuple.\n",
    "animals = ('cat', 'bird', 'dog')\n",
    "print(animals)\n",
    "\n",
    "# iii. Create a dictionary of 3 different key-value pairs where the keys are names of\n",
    "# programming languages and the values are their release dates.\n",
    "programming_languages = {'Python': 1991, 'JavaScript': 1995, 'Java': 1995}\n",
    "print(programming_languages)\n",
    "\n",
    "# iv. Create a set of 3 different colours and print the set.\n",
    "colours = {'yellow', 'red', 'purple'}\n",
    "print(colours)\n",
    "\n",
    "# v. Create a string variable that contains the sentence \"Python is an easy-to-learn\n",
    "# programming language.\"\n",
    "sentence = \"Python is an easy-to-learn programming language.\"\n",
    "print(sentence)"
   ]
  },
  {
   "cell_type": "code",
   "execution_count": 6,
   "metadata": {},
   "outputs": [
    {
     "name": "stdout",
     "output_type": "stream",
     "text": [
      "The number is positive\n",
      "The string starts with a consonant\n",
      "The numbers are not equal\n"
     ]
    }
   ],
   "source": [
    "# Exercise 3: Conditions\n",
    "\n",
    "# Write a script that takes a user input of a number and checks if it is positive, negative or\n",
    "# zero. Print the results.\n",
    "user_input = float(input(\"Enter a number: \"))\n",
    "if user_input > 0:\n",
    "    print(\"The number is positive\")\n",
    "elif user_input < 0:\n",
    "    print(\"The number is negative\")\n",
    "else:\n",
    "    print(\"The number is zero\")\n",
    "\n",
    "# Write a script that takes a user input of a string and checks if it starts with a vowel or\n",
    "# consonant. Print the results.\n",
    "user_input = input(\"Write a sentence: \")\n",
    "if user_input[0].lower() in ['a', 'e', 'i', 'o', 'u']:\n",
    "    print(\"The string starts with a vowel\")\n",
    "else:\n",
    "    print(\"The string starts with a consonant\")\n",
    "\n",
    "# Write a script that takes a user input of two numbers and checks if they are equal or not.\n",
    "# Print the results.\n",
    "number1 = float(input(\"Enter the first number: \"))\n",
    "number2 = float(input(\"Enter the second number: \"))\n",
    "if number1 == number2:\n",
    "    print(\"The numbers are equal\")\n",
    "else:\n",
    "    print(\"The numbers are not equal\")"
   ]
  },
  {
   "cell_type": "code",
   "execution_count": null,
   "metadata": {},
   "outputs": [
    {
     "name": "stdout",
     "output_type": "stream",
     "text": [
      "1 2 3 4 5 6 7 8 9 10 \n",
      "\n",
      "2 4 6 8 10 \n",
      "\n",
      "0 1 1 2 3 "
     ]
    }
   ],
   "source": [
    "# Exercise 4: Loops\n",
    "# i. Write a script that prints the numbers from 1 to 10 using a for loop.\n",
    "for i in range(1, 11):\n",
    "    print(i, end=' ')\n",
    "    \n",
    "# ii. Write a script that prints the even numbers from 2 to 10 using a for loop.\n",
    "print(\"\\n\")\n",
    "\n",
    "for i in range(2, 11, 2):\n",
    "    print(i, end=' ')\n",
    "  \n",
    "\n",
    "# iii. Write a script that prints the first 5 numbers of the Fibonacci sequence using a while\n",
    "# loop.\n",
    "print(\"\\n\")\n",
    "\n",
    "a = 0\n",
    "b = 1\n",
    "count = 0\n",
    "\n",
    "while count < 5:\n",
    "    print(a, end=' ')\n",
    "    \n",
    "    temp = a\n",
    "    a = b\n",
    "    b = temp + b\n",
    "\n",
    "    count += 1\n"
   ]
  },
  {
   "cell_type": "code",
   "execution_count": 24,
   "metadata": {},
   "outputs": [
    {
     "name": "stdout",
     "output_type": "stream",
     "text": [
      "5\n",
      "5\n",
      "3\n"
     ]
    }
   ],
   "source": [
    "# Exercise 5: Functions\n",
    "# i. Write a function that takes two numbers as parameters and returns their sum.\n",
    "def add_numbers(number1, number2):\n",
    "    return number1 + number2\n",
    "print(add_numbers(1, 4))\n",
    "\n",
    "# ii. Write a function that takes a list of numbers as a parameter and returns the largest\n",
    "# number in the list.\n",
    "def largest_number(number):\n",
    "    return max(number)\n",
    "print(largest_number([1, 2, 3, 4, 5]))\n",
    "\n",
    "# iii. Write a function that takes a string as a parameter and returns the number of vowels\n",
    "# in the string.\n",
    "def count_vowels(string):\n",
    "    vowels = ['a', 'e', 'i', 'o', 'u']\n",
    "    count = 0\n",
    "    for character in string:\n",
    "        if character in vowels:\n",
    "            count += 1\n",
    "    return count\n",
    "print(count_vowels(\"Lorien\"))\n"
   ]
  },
  {
   "cell_type": "code",
   "execution_count": 31,
   "metadata": {},
   "outputs": [
    {
     "name": "stdout",
     "output_type": "stream",
     "text": [
      "Password must contain at least one special character\n"
     ]
    }
   ],
   "source": [
    "# Exercise 6: Password Strength Checker\n",
    "\n",
    "# In this exercise, participants will create a script that checks the strength of a\n",
    "# password based on certain criteria. Write a Python script that checks the strength of\n",
    "# a password based on the following criteria:\n",
    "\n",
    "# 1. The password must contain at least 8 characters.\n",
    "# 2. The password must contain at least one uppercase letter.\n",
    "# 3. The password must contain at least one lowercase letter.\n",
    "# 4. The password must contain at least one special character (e.g. @, #, $,\n",
    "# %, etc.).\n",
    "\n",
    "# If the password meets all the above criteria, print \"Password is strong\". If the\n",
    "# password fails to meet any of the above criteria, print a message indicating which\n",
    "# criteria the password failed to meet.\n",
    "\n",
    "# Example Input/Output:\n",
    "# Input:\n",
    "# password = \"Pa$$word123\"\n",
    "# Output:\n",
    "# Password is strong\n",
    "# Input:\n",
    "# password = \"password\"\n",
    "# Output:\n",
    "# Password must contain at least one uppercase letter, one special character,\n",
    "# and be at least 8 characters long.\n",
    "\n",
    "# Hints:\n",
    "# • Use the len() function to check the length of the password.\n",
    "# • Use the isupper(), islower(), and isdigit() methods to check if a\n",
    "# character is uppercase, lowercase, or a digit, respectively.\n",
    "# • Use the in keyword to check if a character is a special character\n",
    "\n",
    "def password_strength(password):\n",
    "\n",
    "\n",
    "    \n",
    "    if len(password) < 8:\n",
    "        return \"Password must be at least 8 characters long\"\n",
    "    if password == password.lower():\n",
    "        return \"Password must contain at least one uppercase letter\"\n",
    "    # if not any(character.islower() for character in password):\n",
    "    if password == password.upper():\n",
    "        return \"Password must contain at least one lowercase letter\"\n",
    "    special_characters = ['@', '#', '$', '%']\n",
    "    if not any(character in special_characters for character in password):\n",
    "        return \"Password must contain at least one special character\"\n",
    "    return \"Password is strong\"\n",
    "\n",
    "password = input(\"Enter your password: \")\n",
    "print(password_strength(password))\n",
    "\n"
   ]
  },
  {
   "cell_type": "code",
   "execution_count": null,
   "metadata": {},
   "outputs": [
    {
     "name": "stdout",
     "output_type": "stream",
     "text": [
      "Encrypted: KHOOR\n",
      "Decrypted: HELLO\n"
     ]
    }
   ],
   "source": [
    "# Exercise 7: Caesar Cipher\n",
    "# In this exercise, create a script that encrypts and decrypts messages using the\n",
    "# Caesar cipher.\n",
    "# The Caesar cipher is a simple encryption technique that involves shifting each letter\n",
    "# of the message by a certain number of positions down the alphabet. For example, if\n",
    "# we shift the letter \"A\" by 3 positions, we get the letter \"D\". Similarly, if we shift the\n",
    "# letter \"B\" by 2 positions, we get the letter \"D\".\n",
    "\n",
    "# Write a Python script that takes a message and a key as inputs and\n",
    "# encrypts/decrypts the message using the Caesar cipher. The key is the number of\n",
    "# positions each letter should be shifted down the alphabet.\n",
    "\n",
    "# Example Input/Output:\n",
    "# Input:\n",
    "# message = \"HELLO\"\n",
    "# key = 3\n",
    "# mode = \"encrypt\"\n",
    "# Output:\n",
    "# KHOOR\n",
    "# Input:\n",
    "# message = \"KHOOR\"\n",
    "# key = 3\n",
    "# mode = \"decrypt\"\n",
    "# Output:\n",
    "# HELLO\n",
    "\n",
    "# Hints:\n",
    "# • Use the ord() function to get the ASCII value of a character.\n",
    "# • Use the chr() function to get the character corresponding to an ASCII\n",
    "# value.\n",
    "# • Use the modulo operator (%) to wrap around the alphabet when\n",
    "# shifting letters.\n",
    "\n",
    "def caesar_cipher(message, key, mode):\n",
    "    result = \"\"\n",
    "    \n",
    "    # for ecryption and decryption\n",
    "    if mode == \"decrypt\":\n",
    "        key = -key\n",
    "    \n",
    "    # checks if character is a letter and encrypts/decrypts it\n",
    "    for character in message:\n",
    "        if character.isalpha():\n",
    "            base = 65 if character.isupper() else 97\n",
    "            # shifts the letter by the key\n",
    "            new_character = chr((ord(character) - base + key) % 26 + base)\n",
    "            result += new_character\n",
    "        else:\n",
    "            result += character\n",
    "    \n",
    "    return result\n",
    "\n",
    "# used from example, can change message and key\n",
    "message = \"HELLO\"\n",
    "key = 3\n",
    "\n",
    "mode = \"encrypt\"\n",
    "encrypted_message = caesar_cipher(message, key, mode)\n",
    "print(\"Encrypted:\", encrypted_message)\n",
    "\n",
    "mode = \"decrypt\"\n",
    "decrypted_message = caesar_cipher(encrypted_message, key, mode)\n",
    "print(\"Decrypted:\", decrypted_message)\n",
    "\n"
   ]
  },
  {
   "cell_type": "code",
   "execution_count": null,
   "metadata": {},
   "outputs": [
    {
     "name": "stdout",
     "output_type": "stream",
     "text": [
      "Welcome to Hangman!\n",
      "_ _ _ _\n"
     ]
    }
   ],
   "source": [
    "# Exercise 8: Hangman Game\n",
    "# Write a Python script that plays the game of Hangman. The script should randomly\n",
    "# select a word from a list of words, and the user should have to guess the letters in\n",
    "# the word one by one. The user is allowed a certain number of incorrect guesses\n",
    "# before the game is over.\n",
    "# Example Input/Output:\n",
    "# Input:\n",
    "# (word list) = [\"python\", \"java\", \"javascript\"]\n",
    "# (max guesses) = 6\n",
    "# Output:\n",
    "# _ _ _ _ _ _ (displayed to user)\n",
    "# Guess a letter: a\n",
    "# _ _ _ _ _ _ (displayed to user)\n",
    "# Guess a letter: e\n",
    "# _ _ _ _ _ _ (displayed to user)\n",
    "# Guess a letter: i\n",
    "# _ _ _ _ _ _ (displayed to user)\n",
    "# Guess a letter: o\n",
    "# _ _ _ o _ _ (displayed to user)\n",
    "# Guess a letter: t\n",
    "# _ _ _ o _ _ (displayed to user)\n",
    "# Guess a letter: p\n",
    "# _ _ _ o _ _ (displayed to user)\n",
    "# Guess a letter: n\n",
    "# _ _ _ o n _ (displayed to user)\n",
    "# Guess a letter: y\n",
    "# _ y _ o n _ (displayed to user)\n",
    "# Guess a letter: h\n",
    "# _ y _ o n h (displayed to user)\n",
    "# Congratulations, you guessed the word \"python\"!\n",
    "# Hints:\n",
    "# Use the random module to randomly select a word from the word list.\n",
    "# Use a loop to iterate over the word and check if the guessed letter is present\n",
    "# in the word.\n",
    "# Use a counter to keep track of the number of incorrect guesses.\n",
    "\n",
    "import random\n",
    "\n",
    "def hangman(word_list, max_guesses):\n",
    "    # Randomly select a word from the word list\n",
    "    word = random.choice(word_list)\n",
    "    word_length = len(word)\n",
    "    \n",
    "    # Initialize the display with underscores\n",
    "    display = [\"_\"] * word_length\n",
    "    guessed_letters = set()\n",
    "    incorrect_guesses = 0\n",
    "    \n",
    "    print(\"Welcome to Hangman!\")\n",
    "    print(\" \".join(display))\n",
    "    \n",
    "    while incorrect_guesses < max_guesses:\n",
    "        guess = input(\"Guess a letter: \").lower()\n",
    "        \n",
    "        # Check if the input is a single letter\n",
    "        if len(guess) != 1 or not guess.isalpha():\n",
    "            print(\"Please enter a single valid letter.\")\n",
    "            continue\n",
    "        \n",
    "        # Check if the letter has already been guessed\n",
    "        if guess in guessed_letters:\n",
    "            print(\"You've already guessed that letter. Try again.\")\n",
    "            continue\n",
    "        \n",
    "        guessed_letters.add(guess)\n",
    "        \n",
    "        # Check if the guessed letter is in the word\n",
    "        if guess in word:\n",
    "            print(f\"Good job! '{guess}' is in the word.\")\n",
    "            for i in range(word_length):\n",
    "                if word[i] == guess:\n",
    "                    display[i] = guess\n",
    "        else:\n",
    "            incorrect_guesses += 1\n",
    "            \n",
    "        # Display the current state of the word\n",
    "        print(\" \".join(display))\n",
    "        \n",
    "        # Check if the word has been fully guessed\n",
    "        if \"_\" not in display:\n",
    "            print(f\"Congratulations, you guessed the word \\\"{word}\\\"!\")\n",
    "            return\n",
    "    \n",
    "    # If the loop ends, the user has run out of guesses\n",
    "    print(f\"The game is over. The word was \\\"{word}\\\".\")\n",
    "\n",
    "# Example usage\n",
    "word_list = [\"python\", \"java\", \"javascript\"]\n",
    "max_guesses = 6\n",
    "hangman(word_list, max_guesses)\n",
    "\n",
    "\n",
    "\n",
    "  "
   ]
  }
 ],
 "metadata": {
  "kernelspec": {
   "display_name": "base",
   "language": "python",
   "name": "python3"
  },
  "language_info": {
   "codemirror_mode": {
    "name": "ipython",
    "version": 3
   },
   "file_extension": ".py",
   "mimetype": "text/x-python",
   "name": "python",
   "nbconvert_exporter": "python",
   "pygments_lexer": "ipython3",
   "version": "3.12.4"
  }
 },
 "nbformat": 4,
 "nbformat_minor": 2
}
